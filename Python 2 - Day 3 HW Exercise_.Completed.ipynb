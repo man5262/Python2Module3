{
 "cells": [
  {
   "cell_type": "markdown",
   "metadata": {},
   "source": [
    "# OOP - Polymorphism, & Abstraction"
   ]
  },
  {
   "cell_type": "markdown",
   "metadata": {},
   "source": [
    "## Exercise 1: \n",
    "Create an abstract class called Vehicle with \n",
    "- color, make, and year private attributes \n",
    "\n",
    "and abstract method called \n",
    "- get_info() which returns all information\n",
    "- honk() which returns a string of honking sound\n",
    "\n",
    "Create Car, Boat, and Bicycle class which is a child class of the Vehicle class.  Then, create an instance of each child class and call get_info() method to print out its information in a user friendly format. Add other methods as you like."
   ]
  },
  {
   "cell_type": "code",
   "execution_count": 42,
   "metadata": {},
   "outputs": [],
   "source": [
    "from abc import ABC, abstractmethod\n",
    "\n",
    "class Vehicle(ABC):\n",
    "    \n",
    "    @abstractmethod\n",
    "    def get_info(self):\n",
    "        pass\n",
    "    \n",
    "    @abstractmethod\n",
    "    def honk(self):\n",
    "        pass"
   ]
  },
  {
   "cell_type": "code",
   "execution_count": 43,
   "metadata": {},
   "outputs": [],
   "source": [
    "class Car(Vehicle):\n",
    "    \n",
    "    def __init__(self, color, make, model):\n",
    "        self.__color = color\n",
    "        self.__make = make\n",
    "        self.__model = model\n",
    "        \n",
    "    def get_info(self):\n",
    "        return f\"The car info:\\n\\nColor: {self.__color}\\nMake: {self.__make}\\nModel: {self.__model}\"\n",
    "    \n",
    "    def honk(self):\n",
    "        return \"Be-e-e-e-e-e-p\"\n",
    "\n",
    "class Boat(Vehicle):\n",
    "    \n",
    "    def __init__(self, color, make, model):\n",
    "        self.__color = color\n",
    "        self.__make = make\n",
    "        self.__model = model\n",
    "        \n",
    "    def get_info(self):\n",
    "        return f\"The boat info:\\n\\nColor: {self.__color}\\nMake: {self.__make}\\nModel: {self.__model}\"\n",
    "    \n",
    "    def honk(self):\n",
    "        return \"Bo-o-o-o-o\"\n",
    "\n",
    "class Bicycle(Vehicle):\n",
    "    \n",
    "    def __init__(self, color, make, model):\n",
    "        self.__color = color\n",
    "        self.__make = make\n",
    "        self.__model = model\n",
    "        \n",
    "    def get_info(self):\n",
    "        return f\"The bicycle info:\\n\\nColor: {self.__color}\\nMake: {self.__make}\\nModel: {self.__model}\"\n",
    "    \n",
    "    def honk(self):\n",
    "        pass\n"
   ]
  },
  {
   "cell_type": "code",
   "execution_count": 46,
   "metadata": {},
   "outputs": [
    {
     "name": "stdout",
     "output_type": "stream",
     "text": [
      "The car info:\n",
      "\n",
      "Color: Green\n",
      "Make: Toyota\n",
      "Model: Camry\n",
      "Be-e-e-e-e-e-p\n",
      "\n",
      "=====\n",
      "\n",
      "The boat info:\n",
      "\n",
      "Color: White\n",
      "Make: Yamaha\n",
      "Model: 275Sd\n",
      "Bo-o-o-o-o\n",
      "\n",
      "=====\n",
      "\n",
      "The bicycle info:\n",
      "\n",
      "Color: Black\n",
      "Make: Schwinn\n",
      "Model: Roadster\n"
     ]
    }
   ],
   "source": [
    "\n",
    "c1 = Car(\"Green\", \"Toyota\", \"Camry\")\n",
    "print(c1.get_info())\n",
    "print(c1.honk())\n",
    "print(\"\\n=====\\n\")\n",
    "bo = Boat(\"White\", \"Yamaha\", \"275Sd\")\n",
    "print(bo.get_info())\n",
    "print(bo.honk())\n",
    "print(\"\\n=====\\n\")\n",
    "bi = Bicycle(\"Black\", \"Schwinn\", \"Roadster\")\n",
    "print(bi.get_info())\n"
   ]
  },
  {
   "cell_type": "markdown",
   "metadata": {},
   "source": [
    "## Exercise 2: \n",
    "Create an abstract class called Person with name and address attributes, and print_info() abstract method. \n",
    "1. Build an Employee class inherited from Person class that \n",
    "    - stores hired date and salary attributes \n",
    "    - print_info() method that will be used to print out all information about an employee\n",
    "    - a method to calculate employee's monthly pay where federal tax is 15%, MD tax is 4.5%, and a local tax is 3%.\n",
    "    \n",
    "2. Build a Customer class also inherited from Person class that\n",
    "    - stores balance attribute\n",
    "    - print_info() method that will be used to print out all information about a customer\n",
    "\n",
    "\n",
    "Build any method you need but apply encapsulation at all possible. Then, write a program to show your classes work with multiple employees and customers. \n",
    "\n",
    "CHALLENGE!!!\n",
    "Create an Address class and use it in Person class"
   ]
  },
  {
   "cell_type": "code",
   "execution_count": 71,
   "metadata": {},
   "outputs": [],
   "source": [
    "from abc import ABC, abstractmethod\n",
    "\n",
    "class Person(ABC):\n",
    "        \n",
    "    @abstractmethod\n",
    "    def print_info(self):\n",
    "        pass\n",
    "    \n",
    "    @abstractmethod\n",
    "    def get_monthly_pay(self):\n",
    "        pass"
   ]
  },
  {
   "cell_type": "code",
   "execution_count": 82,
   "metadata": {},
   "outputs": [],
   "source": [
    "class Employee(Person):\n",
    "\n",
    "    def __init__(self, hired_date, salary):\n",
    "        self.__hired_date = hired_date\n",
    "        self.__salary = salary\n",
    "        self.__balance = 0\n",
    "        \n",
    "    def print_info(self):\n",
    "        return f\"Hired date: {self.__hired_date}\\nSalary: {self.__salary}\\n\"\n",
    "    \n",
    "    def get_monthly_pay(self):\n",
    "        return self.__salary * (1 - (15 + 4.5 + 3) / 100)\n",
    "\n",
    "    def set_balance(self):\n",
    "        self.__balance = self.get_monthly_pay()\n",
    "        \n",
    "    def get_balance(self):\n",
    "        return self.__balance"
   ]
  },
  {
   "cell_type": "code",
   "execution_count": 84,
   "metadata": {},
   "outputs": [
    {
     "name": "stdout",
     "output_type": "stream",
     "text": [
      "The employee info:\n",
      "Hired date: 01/02/2019\n",
      "Salary: 45000\n",
      "\n",
      "Monthly pay is 34875.0\n",
      "\n",
      "The employee info:\n",
      "Hired date: 11/13/2013\n",
      "Salary: 88600\n",
      "\n",
      "Monthly pay is 68665.0\n",
      "\n"
     ]
    }
   ],
   "source": [
    "e1 = Employee(\"01/02/2019\", 45000)\n",
    "print(f\"The employee info:\\n{e1.print_info()}\")\n",
    "e1.set_balance()\n",
    "print(f\"Monthly pay is {e1.get_balance()}\\n\")\n",
    "\n",
    "e1 = Employee(\"11/13/2013\", 88600)\n",
    "print(f\"The employee info:\\n{e1.print_info()}\")\n",
    "e1.set_balance()\n",
    "print(f\"Monthly pay is {e1.get_balance()}\\n\")"
   ]
  },
  {
   "cell_type": "code",
   "execution_count": null,
   "metadata": {},
   "outputs": [],
   "source": []
  }
 ],
 "metadata": {
  "kernelspec": {
   "display_name": "Python 3",
   "language": "python",
   "name": "python3"
  },
  "language_info": {
   "codemirror_mode": {
    "name": "ipython",
    "version": 3
   },
   "file_extension": ".py",
   "mimetype": "text/x-python",
   "name": "python",
   "nbconvert_exporter": "python",
   "pygments_lexer": "ipython3",
   "version": "3.8.8"
  }
 },
 "nbformat": 4,
 "nbformat_minor": 4
}
